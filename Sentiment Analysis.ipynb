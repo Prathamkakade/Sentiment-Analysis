{
 "cells": [
  {
   "cell_type": "code",
   "execution_count": 30,
   "metadata": {},
   "outputs": [
    {
     "name": "stdout",
     "output_type": "stream",
     "text": [
      "Requirement already satisfied: wordcloud in c:\\users\\pratham\\anaconda3\\lib\\site-packages (1.8.1)\n",
      "Requirement already satisfied: numpy>=1.6.1 in c:\\users\\pratham\\anaconda3\\lib\\site-packages (from wordcloud) (1.19.2)\n",
      "Requirement already satisfied: pillow in c:\\users\\pratham\\anaconda3\\lib\\site-packages (from wordcloud) (8.0.1)\n",
      "Requirement already satisfied: matplotlib in c:\\users\\pratham\\anaconda3\\lib\\site-packages (from wordcloud) (3.3.2)\n",
      "Requirement already satisfied: cycler>=0.10 in c:\\users\\pratham\\anaconda3\\lib\\site-packages (from matplotlib->wordcloud) (0.10.0)\n",
      "Requirement already satisfied: kiwisolver>=1.0.1 in c:\\users\\pratham\\anaconda3\\lib\\site-packages (from matplotlib->wordcloud) (1.3.0)\n",
      "Requirement already satisfied: python-dateutil>=2.1 in c:\\users\\pratham\\anaconda3\\lib\\site-packages (from matplotlib->wordcloud) (2.8.1)\n",
      "Requirement already satisfied: certifi>=2020.06.20 in c:\\users\\pratham\\anaconda3\\lib\\site-packages (from matplotlib->wordcloud) (2020.6.20)\n",
      "Requirement already satisfied: pyparsing!=2.0.4,!=2.1.2,!=2.1.6,>=2.0.3 in c:\\users\\pratham\\anaconda3\\lib\\site-packages (from matplotlib->wordcloud) (2.4.7)\n",
      "Requirement already satisfied: six in c:\\users\\pratham\\anaconda3\\lib\\site-packages (from cycler>=0.10->matplotlib->wordcloud) (1.15.0)\n",
      "Requirement already satisfied: nltk in c:\\users\\pratham\\anaconda3\\lib\\site-packages (3.5)\n",
      "Requirement already satisfied: joblib in c:\\users\\pratham\\anaconda3\\lib\\site-packages (from nltk) (0.17.0)\n",
      "Requirement already satisfied: regex in c:\\users\\pratham\\anaconda3\\lib\\site-packages (from nltk) (2020.10.15)\n",
      "Requirement already satisfied: tqdm in c:\\users\\pratham\\anaconda3\\lib\\site-packages (from nltk) (4.50.2)\n",
      "Requirement already satisfied: click in c:\\users\\pratham\\anaconda3\\lib\\site-packages (from nltk) (7.1.2)\n"
     ]
    }
   ],
   "source": [
    "!pip install wordcloud\n",
    "!pip install nltk\n"
   ]
  },
  {
   "cell_type": "code",
   "execution_count": 1,
   "metadata": {},
   "outputs": [
    {
     "name": "stderr",
     "output_type": "stream",
     "text": [
      "[nltk_data] Downloading package punkt to\n",
      "[nltk_data]     C:\\Users\\Pratham\\AppData\\Roaming\\nltk_data...\n",
      "[nltk_data]   Package punkt is already up-to-date!\n"
     ]
    }
   ],
   "source": [
    "# General packages\n",
    "import numpy as np\n",
    "import pandas as pd\n",
    "import seaborn as sns\n",
    "import matplotlib.pyplot as plt\n",
    "import os\n",
    "\n",
    "# NLP packages\n",
    "import nltk\n",
    "import nltk\n",
    "nltk.download('punkt')\n",
    "from nltk import word_tokenize,sent_tokenize\n",
    "from sklearn.feature_extraction.text import CountVectorizer\n",
    "from sklearn.feature_extraction.text import TfidfVectorizer\n",
    "from collections import Counter\n",
    "from wordcloud import WordCloud\n",
    "\n",
    "# Modeling packages\n",
    "from sklearn.model_selection import train_test_split\n",
    "from sklearn.linear_model import LogisticRegression\n",
    "from sklearn.ensemble import RandomForestClassifier\n",
    "from sklearn.metrics import accuracy_score\n",
    "from sklearn.metrics import f1_score\n",
    "\n",
    "from pylab import rcParams\n",
    "import warnings\n",
    "warnings.filterwarnings(\"ignore\")\n",
    "rcParams['figure.figsize'] = 14, 6\n",
    "plt.style.use('ggplot')"
   ]
  },
  {
   "cell_type": "code",
   "execution_count": 2,
   "metadata": {},
   "outputs": [
    {
     "data": {
      "text/html": [
       "<div>\n",
       "<style scoped>\n",
       "    .dataframe tbody tr th:only-of-type {\n",
       "        vertical-align: middle;\n",
       "    }\n",
       "\n",
       "    .dataframe tbody tr th {\n",
       "        vertical-align: top;\n",
       "    }\n",
       "\n",
       "    .dataframe thead th {\n",
       "        text-align: right;\n",
       "    }\n",
       "</style>\n",
       "<table border=\"1\" class=\"dataframe\">\n",
       "  <thead>\n",
       "    <tr style=\"text-align: right;\">\n",
       "      <th></th>\n",
       "      <th>ProductId</th>\n",
       "      <th>UserId</th>\n",
       "      <th>ProfileName</th>\n",
       "      <th>HelpfulnessNumerator</th>\n",
       "      <th>HelpfulnessDenominator</th>\n",
       "      <th>Score</th>\n",
       "      <th>Time</th>\n",
       "      <th>Summary</th>\n",
       "      <th>Text</th>\n",
       "    </tr>\n",
       "  </thead>\n",
       "  <tbody>\n",
       "    <tr>\n",
       "      <th>0</th>\n",
       "      <td>B001E4KFG0</td>\n",
       "      <td>A3SGXH7AUHU8GW</td>\n",
       "      <td>delmartian</td>\n",
       "      <td>1</td>\n",
       "      <td>1</td>\n",
       "      <td>5</td>\n",
       "      <td>1303862400</td>\n",
       "      <td>Good Quality Dog Food</td>\n",
       "      <td>I have bought several of the Vitality canned d...</td>\n",
       "    </tr>\n",
       "    <tr>\n",
       "      <th>1</th>\n",
       "      <td>B00813GRG4</td>\n",
       "      <td>A1D87F6ZCVE5NK</td>\n",
       "      <td>dll pa</td>\n",
       "      <td>0</td>\n",
       "      <td>0</td>\n",
       "      <td>1</td>\n",
       "      <td>1346976000</td>\n",
       "      <td>Not as Advertised</td>\n",
       "      <td>Product arrived labeled as Jumbo Salted Peanut...</td>\n",
       "    </tr>\n",
       "    <tr>\n",
       "      <th>2</th>\n",
       "      <td>B000LQOCH0</td>\n",
       "      <td>ABXLMWJIXXAIN</td>\n",
       "      <td>Natalia Corres \"Natalia Corres\"</td>\n",
       "      <td>1</td>\n",
       "      <td>1</td>\n",
       "      <td>4</td>\n",
       "      <td>1219017600</td>\n",
       "      <td>\"Delight\" says it all</td>\n",
       "      <td>This is a confection that has been around a fe...</td>\n",
       "    </tr>\n",
       "  </tbody>\n",
       "</table>\n",
       "</div>"
      ],
      "text/plain": [
       "    ProductId          UserId                      ProfileName  \\\n",
       "0  B001E4KFG0  A3SGXH7AUHU8GW                       delmartian   \n",
       "1  B00813GRG4  A1D87F6ZCVE5NK                           dll pa   \n",
       "2  B000LQOCH0   ABXLMWJIXXAIN  Natalia Corres \"Natalia Corres\"   \n",
       "\n",
       "   HelpfulnessNumerator  HelpfulnessDenominator  Score        Time  \\\n",
       "0                     1                       1      5  1303862400   \n",
       "1                     0                       0      1  1346976000   \n",
       "2                     1                       1      4  1219017600   \n",
       "\n",
       "                 Summary                                               Text  \n",
       "0  Good Quality Dog Food  I have bought several of the Vitality canned d...  \n",
       "1      Not as Advertised  Product arrived labeled as Jumbo Salted Peanut...  \n",
       "2  \"Delight\" says it all  This is a confection that has been around a fe...  "
      ]
     },
     "execution_count": 2,
     "metadata": {},
     "output_type": "execute_result"
    }
   ],
   "source": [
    "Customer_review = pd.read_csv('CustomerReview.csv')\n",
    "Customer_review.head(3)"
   ]
  },
  {
   "cell_type": "code",
   "execution_count": 3,
   "metadata": {},
   "outputs": [
    {
     "data": {
      "image/png": "[encoded data removed]",
      "text/plain": [
       "<Figure size 1008x432 with 1 Axes>"
      ]
     },
     "metadata": {},
     "output_type": "display_data"
    }
   ],
   "source": [
    "## Getting the number of words by splitting them by a space\n",
    "words_per_review = Customer_review.Text.apply(lambda x: len(x.split(\" \")))\n",
    "words_per_review.hist(bins = 150)\n",
    "plt.xlabel('Review Length (words)')\n",
    "plt.ylabel('Frequency')\n",
    "plt.show()"
   ]
  },
  {
   "cell_type": "code",
   "execution_count": 4,
   "metadata": {},
   "outputs": [
    {
     "name": "stdout",
     "output_type": "stream",
     "text": [
      "Average words: 77.9028\n",
      "Skewness: 4.612459483340116\n"
     ]
    }
   ],
   "source": [
    "print('Average words:', words_per_review.mean())\n",
    "print('Skewness:', words_per_review.skew())"
   ]
  },
  {
   "cell_type": "code",
   "execution_count": 5,
   "metadata": {},
   "outputs": [
    {
     "data": {
      "text/plain": [
       "5    61.83\n",
       "4    14.33\n",
       "1     9.32\n",
       "3     8.62\n",
       "2     5.90\n",
       "Name: Score, dtype: float64"
      ]
     },
     "execution_count": 5,
     "metadata": {},
     "output_type": "execute_result"
    }
   ],
   "source": [
    "percent_val = 100 * Customer_review['Score'].value_counts()/len(Customer_review)\n",
    "percent_val"
   ]
  },
  {
   "cell_type": "code",
   "execution_count": 6,
   "metadata": {},
   "outputs": [
    {
     "data": {
      "image/png": "[encoded data removed]",
      "text/plain": [
       "<Figure size 1008x432 with 1 Axes>"
      ]
     },
     "metadata": {},
     "output_type": "display_data"
    }
   ],
   "source": [
    "percent_val.plot.bar()\n",
    "plt.show()"
   ]
  },
  {
   "cell_type": "code",
   "execution_count": 7,
   "metadata": {},
   "outputs": [
    {
     "data": {
      "image/png": "[encoded data removed]",
      "text/plain": [
       "<Figure size 1008x432 with 1 Axes>"
      ]
     },
     "metadata": {},
     "output_type": "display_data"
    }
   ],
   "source": [
    "word_cloud_text = ''.join(Customer_review['Text'])\n",
    "\n",
    "wordcloud = WordCloud(max_font_size=100, # Maximum font size for the largest word\n",
    "                      max_words=100, # The maximum number of words\n",
    "                      background_color=\"white\", # Background color for the word cloud image\n",
    "                      scale = 10, # Scaling between computation and drawing\n",
    "                      width=800, # Width of the canvas\n",
    "                      height=400 # Height of the canvas\n",
    "                     ).generate(word_cloud_text)\n",
    "\n",
    "plt.figure()\n",
    "plt.imshow(wordcloud, \n",
    "           interpolation=\"bilinear\") # to make the displayed image appear more smoothly\n",
    "plt.axis(\"off\")\n",
    "plt.show()"
   ]
  },
  {
   "cell_type": "code",
   "execution_count": 8,
   "metadata": {},
   "outputs": [
    {
     "data": {
      "text/plain": [
       "1    7616\n",
       "0    1522\n",
       "Name: Sentiment_rating, dtype: int64"
      ]
     },
     "execution_count": 8,
     "metadata": {},
     "output_type": "execute_result"
    }
   ],
   "source": [
    "# Mapping the ratings\n",
    "Customer_review['Sentiment_rating'] = np.where(Customer_review.Score > 3,1,0)\n",
    "\n",
    "## Removing neutral reviews \n",
    "Customer_review = Customer_review[Customer_review.Score != 3]\n",
    "\n",
    "# Printing the counts of each class\n",
    "Customer_review['Sentiment_rating'].value_counts()"
   ]
  },
  {
   "cell_type": "code",
   "execution_count": 9,
   "metadata": {},
   "outputs": [
    {
     "data": {
      "image/png": "[encoded data removed]",
      "text/plain": [
       "<Figure size 1008x432 with 1 Axes>"
      ]
     },
     "metadata": {},
     "output_type": "display_data"
    }
   ],
   "source": [
    "\n",
    "Customer_review.Sentiment_rating.value_counts().plot.bar()\n",
    "plt.show()"
   ]
  },
  {
   "cell_type": "code",
   "execution_count": 10,
   "metadata": {},
   "outputs": [],
   "source": [
    "Customer_review['reviews_text_new'] = Customer_review['Text'].str.lower()"
   ]
  },
  {
   "cell_type": "code",
   "execution_count": 11,
   "metadata": {},
   "outputs": [
    {
     "data": {
      "text/plain": [
       "['DPhi', 'Bootcamp', 'rules', '.', 'It', 'is', 'awesome', ':', 'D']"
      ]
     },
     "execution_count": 11,
     "metadata": {},
     "output_type": "execute_result"
    }
   ],
   "source": [
    "from nltk import word_tokenize\n",
    "\n",
    "# Word tokenization example:\n",
    "word_tokenize(\"DPhi Bootcamp rules. It is awesome :D\")"
   ]
  },
  {
   "cell_type": "code",
   "execution_count": 12,
   "metadata": {},
   "outputs": [
    {
     "name": "stdout",
     "output_type": "stream",
     "text": [
      "Number of unique tokens then:  27504\n",
      "Number of unique tokens now:  22470\n"
     ]
    }
   ],
   "source": [
    "# For reviews not converted to lowe case\n",
    "token_lists = [word_tokenize(each) for each in Customer_review['Text']]\n",
    "tokens = [item for sublist in token_lists for item in sublist]\n",
    "print(\"Number of unique tokens then: \",len(set(tokens)))\n",
    "\n",
    "# For reviews converted to lowe case\n",
    "token_lists_lower = [word_tokenize(each) for each in Customer_review['reviews_text_new']]\n",
    "tokens_lower = [item for sublist in token_lists_lower for item in sublist]\n",
    "print(\"Number of unique tokens now: \",len(set(tokens_lower)))"
   ]
  },
  {
   "cell_type": "code",
   "execution_count": 13,
   "metadata": {},
   "outputs": [
    {
     "data": {
      "text/plain": [
       "{'!',\n",
       " '\"',\n",
       " '#',\n",
       " '$',\n",
       " '%',\n",
       " '&',\n",
       " \"'\",\n",
       " '(',\n",
       " ')',\n",
       " '*',\n",
       " '+',\n",
       " ',',\n",
       " '-',\n",
       " '.',\n",
       " '/',\n",
       " ':',\n",
       " ';',\n",
       " '<',\n",
       " '=',\n",
       " '>',\n",
       " '?',\n",
       " '@',\n",
       " '[',\n",
       " ']',\n",
       " '^',\n",
       " '_',\n",
       " '`',\n",
       " '{',\n",
       " '}',\n",
       " '~',\n",
       " '§',\n",
       " '®'}"
      ]
     },
     "execution_count": 13,
     "metadata": {},
     "output_type": "execute_result"
    }
   ],
   "source": [
    "### Selecting non alpha numeric charactes that are not spaces\n",
    "spl_chars = Customer_review['reviews_text_new'].apply(lambda review: \n",
    "                                                     [char for char in list(review) if not char.isalnum() and char != ' '])\n",
    "\n",
    "## Getting list of list into a single list\n",
    "flat_list = [item for sublist in spl_chars for item in sublist]\n",
    "\n",
    "## Unique special characters\n",
    "set(flat_list)"
   ]
  },
  {
   "cell_type": "code",
   "execution_count": 14,
   "metadata": {},
   "outputs": [],
   "source": [
    "review_backup = Customer_review['reviews_text_new'].copy()\n",
    "Customer_review['reviews_text_new'] = Customer_review['reviews_text_new'].str.replace(r'[^A-Za-z0-9 ]+', ' ')"
   ]
  },
  {
   "cell_type": "code",
   "execution_count": 15,
   "metadata": {},
   "outputs": [
    {
     "name": "stdout",
     "output_type": "stream",
     "text": [
      "- Old Review -\n",
      "this saltwater taffy had great flavors and was very soft and chewy.  each candy was individually wrapped well.  none of the candies were stuck together, which did happen in the expensive version, fralinger's.  would highly recommend this candy!  i served it at a beach-themed party and everyone loved it!\n",
      "\n",
      "- New Review -\n",
      "this saltwater taffy had great flavors and was very soft and chewy   each candy was individually wrapped well   none of the candies were stuck together  which did happen in the expensive version  fralinger s   would highly recommend this candy   i served it at a beach themed party and everyone loved it \n"
     ]
    }
   ],
   "source": [
    "print(\"- Old Review -\")\n",
    "print(review_backup.values[6])\n",
    "print(\"\\n- New Review -\")\n",
    "print(Customer_review['reviews_text_new'][6])"
   ]
  },
  {
   "cell_type": "code",
   "execution_count": 16,
   "metadata": {},
   "outputs": [
    {
     "name": "stdout",
     "output_type": "stream",
     "text": [
      "Number of unique tokens then:  27504\n",
      "Number of unique tokens now:  18039\n"
     ]
    }
   ],
   "source": [
    "token_lists = [word_tokenize(each) for each in Customer_review['Text']]\n",
    "tokens = [item for sublist in token_lists for item in sublist]\n",
    "print(\"Number of unique tokens then: \",len(set(tokens)))\n",
    "\n",
    "token_lists = [word_tokenize(each) for each in Customer_review['reviews_text_new']]\n",
    "tokens = [item for sublist in token_lists for item in sublist]\n",
    "print(\"Number of unique tokens now: \",len(set(tokens)))"
   ]
  },
  {
   "cell_type": "code",
   "execution_count": 17,
   "metadata": {},
   "outputs": [
    {
     "name": "stdout",
     "output_type": "stream",
     "text": [
      "Available languages for NLTK v.3.4.5: \n",
      "['arabic', 'azerbaijani', 'bengali', 'danish', 'dutch', 'english', 'finnish', 'french', 'german', 'greek', 'hungarian', 'indonesian', 'italian', 'kazakh', 'nepali', 'norwegian', 'portuguese', 'romanian', 'russian', 'slovene', 'spanish', 'swedish', 'tajik', 'turkish']\n"
     ]
    },
    {
     "name": "stderr",
     "output_type": "stream",
     "text": [
      "[nltk_data] Downloading package stopwords to\n",
      "[nltk_data]     C:\\Users\\Pratham\\AppData\\Roaming\\nltk_data...\n",
      "[nltk_data]   Package stopwords is already up-to-date!\n"
     ]
    }
   ],
   "source": [
    "nltk.download('stopwords')\n",
    "from nltk.corpus import stopwords\n",
    "\n",
    "print('Available languages for NLTK v.3.4.5: ')\n",
    "print(stopwords.fileids())"
   ]
  },
  {
   "cell_type": "code",
   "execution_count": 18,
   "metadata": {},
   "outputs": [
    {
     "data": {
      "text/plain": [
       "['i',\n",
       " 'me',\n",
       " 'my',\n",
       " 'myself',\n",
       " 'we',\n",
       " 'our',\n",
       " 'ours',\n",
       " 'ourselves',\n",
       " 'you',\n",
       " \"you're\",\n",
       " \"you've\",\n",
       " \"you'll\",\n",
       " \"you'd\",\n",
       " 'your',\n",
       " 'yours',\n",
       " 'yourself',\n",
       " 'yourselves',\n",
       " 'he',\n",
       " 'him',\n",
       " 'his',\n",
       " 'himself',\n",
       " 'she',\n",
       " \"she's\",\n",
       " 'her',\n",
       " 'hers',\n",
       " 'herself',\n",
       " 'it',\n",
       " \"it's\",\n",
       " 'its',\n",
       " 'itself',\n",
       " 'they',\n",
       " 'them',\n",
       " 'their',\n",
       " 'theirs',\n",
       " 'themselves',\n",
       " 'what',\n",
       " 'which',\n",
       " 'who',\n",
       " 'whom',\n",
       " 'this',\n",
       " 'that',\n",
       " \"that'll\",\n",
       " 'these',\n",
       " 'those',\n",
       " 'am',\n",
       " 'is',\n",
       " 'are',\n",
       " 'was',\n",
       " 'were',\n",
       " 'be',\n",
       " 'been',\n",
       " 'being',\n",
       " 'have',\n",
       " 'has',\n",
       " 'had',\n",
       " 'having',\n",
       " 'do',\n",
       " 'does',\n",
       " 'did',\n",
       " 'doing',\n",
       " 'a',\n",
       " 'an',\n",
       " 'the',\n",
       " 'and',\n",
       " 'but',\n",
       " 'if',\n",
       " 'or',\n",
       " 'because',\n",
       " 'as',\n",
       " 'until',\n",
       " 'while',\n",
       " 'of',\n",
       " 'at',\n",
       " 'by',\n",
       " 'for',\n",
       " 'with',\n",
       " 'about',\n",
       " 'against',\n",
       " 'between',\n",
       " 'into',\n",
       " 'through',\n",
       " 'during',\n",
       " 'before',\n",
       " 'after',\n",
       " 'above',\n",
       " 'below',\n",
       " 'to',\n",
       " 'from',\n",
       " 'up',\n",
       " 'down',\n",
       " 'in',\n",
       " 'out',\n",
       " 'on',\n",
       " 'off',\n",
       " 'over',\n",
       " 'under',\n",
       " 'again',\n",
       " 'further',\n",
       " 'then',\n",
       " 'once',\n",
       " 'here',\n",
       " 'there',\n",
       " 'when',\n",
       " 'where',\n",
       " 'why',\n",
       " 'how',\n",
       " 'all',\n",
       " 'any',\n",
       " 'both',\n",
       " 'each',\n",
       " 'few',\n",
       " 'more',\n",
       " 'most',\n",
       " 'other',\n",
       " 'some',\n",
       " 'such',\n",
       " 'no',\n",
       " 'nor',\n",
       " 'not',\n",
       " 'only',\n",
       " 'own',\n",
       " 'same',\n",
       " 'so',\n",
       " 'than',\n",
       " 'too',\n",
       " 'very',\n",
       " 's',\n",
       " 't',\n",
       " 'can',\n",
       " 'will',\n",
       " 'just',\n",
       " 'don',\n",
       " \"don't\",\n",
       " 'should',\n",
       " \"should've\",\n",
       " 'now',\n",
       " 'd',\n",
       " 'll',\n",
       " 'm',\n",
       " 'o',\n",
       " 're',\n",
       " 've',\n",
       " 'y',\n",
       " 'ain',\n",
       " 'aren',\n",
       " \"aren't\",\n",
       " 'couldn',\n",
       " \"couldn't\",\n",
       " 'didn',\n",
       " \"didn't\",\n",
       " 'doesn',\n",
       " \"doesn't\",\n",
       " 'hadn',\n",
       " \"hadn't\",\n",
       " 'hasn',\n",
       " \"hasn't\",\n",
       " 'haven',\n",
       " \"haven't\",\n",
       " 'isn',\n",
       " \"isn't\",\n",
       " 'ma',\n",
       " 'mightn',\n",
       " \"mightn't\",\n",
       " 'mustn',\n",
       " \"mustn't\",\n",
       " 'needn',\n",
       " \"needn't\",\n",
       " 'shan',\n",
       " \"shan't\",\n",
       " 'shouldn',\n",
       " \"shouldn't\",\n",
       " 'wasn',\n",
       " \"wasn't\",\n",
       " 'weren',\n",
       " \"weren't\",\n",
       " 'won',\n",
       " \"won't\",\n",
       " 'wouldn',\n",
       " \"wouldn't\"]"
      ]
     },
     "execution_count": 18,
     "metadata": {},
     "output_type": "execute_result"
    }
   ],
   "source": [
    "noise_words = []\n",
    "eng_stop_words = stopwords.words('english')\n",
    "eng_stop_words"
   ]
  },
  {
   "cell_type": "code",
   "execution_count": 19,
   "metadata": {},
   "outputs": [
    {
     "name": "stdout",
     "output_type": "stream",
     "text": [
      "-- Original Sentence --\n",
      " i have bought several of the vitality canned dog food products and have found them all to be of good quality  the product looks more like a stew than a processed meat and it smells better  my labrador is finicky and she appreciates this product better than  most \n",
      "\n",
      "-- Stopwords in the sentence --\n",
      " ['i', 'have', 'of', 'the', 'and', 'have', 'them', 'all', 'to', 'be', 'of', 'the', 'more', 'a', 'than', 'a', 'and', 'it', 'my', 'is', 'and', 'she', 'this', 'than', 'most']\n",
      "\n",
      "-- Non-stopwords in the sentence --\n",
      " ['bought', 'several', 'vitality', 'canned', 'dog', 'food', 'products', 'found', 'good', 'quality', 'product', 'looks', 'like', 'stew', 'processed', 'meat', 'smells', 'better', 'labrador', 'finicky', 'appreciates', 'product', 'better']\n"
     ]
    }
   ],
   "source": [
    "stop_words = set(eng_stop_words)\n",
    "without_stop_words = []\n",
    "stopword = []\n",
    "sentence = Customer_review['reviews_text_new'][0]\n",
    "words = nltk.word_tokenize(sentence)\n",
    "\n",
    "for word in words:\n",
    "    if word in stop_words:\n",
    "        stopword.append(word)\n",
    "    else:\n",
    "        without_stop_words.append(word)\n",
    "\n",
    "print('-- Original Sentence --\\n', sentence)\n",
    "print('\\n-- Stopwords in the sentence --\\n', stopword)\n",
    "print('\\n-- Non-stopwords in the sentence --\\n', without_stop_words)"
   ]
  },
  {
   "cell_type": "code",
   "execution_count": 20,
   "metadata": {},
   "outputs": [
    {
     "data": {
      "text/html": [
       "<div>\n",
       "<style scoped>\n",
       "    .dataframe tbody tr th:only-of-type {\n",
       "        vertical-align: middle;\n",
       "    }\n",
       "\n",
       "    .dataframe tbody tr th {\n",
       "        vertical-align: top;\n",
       "    }\n",
       "\n",
       "    .dataframe thead th {\n",
       "        text-align: right;\n",
       "    }\n",
       "</style>\n",
       "<table border=\"1\" class=\"dataframe\">\n",
       "  <thead>\n",
       "    <tr style=\"text-align: right;\">\n",
       "      <th></th>\n",
       "      <th>reviews_text_new</th>\n",
       "      <th>reviews_text_nonstop</th>\n",
       "    </tr>\n",
       "  </thead>\n",
       "  <tbody>\n",
       "    <tr>\n",
       "      <th>0</th>\n",
       "      <td>i have bought several of the vitality canned d...</td>\n",
       "      <td>[bought, several, vitality, canned, dog, food,...</td>\n",
       "    </tr>\n",
       "    <tr>\n",
       "      <th>1</th>\n",
       "      <td>product arrived labeled as jumbo salted peanut...</td>\n",
       "      <td>[product, arrived, labeled, jumbo, salted, pea...</td>\n",
       "    </tr>\n",
       "    <tr>\n",
       "      <th>2</th>\n",
       "      <td>this is a confection that has been around a fe...</td>\n",
       "      <td>[confection, around, centuries, light, pillowy...</td>\n",
       "    </tr>\n",
       "    <tr>\n",
       "      <th>3</th>\n",
       "      <td>if you are looking for the secret ingredient i...</td>\n",
       "      <td>[looking, secret, ingredient, robitussin, beli...</td>\n",
       "    </tr>\n",
       "    <tr>\n",
       "      <th>4</th>\n",
       "      <td>great taffy at a great price   there was a wid...</td>\n",
       "      <td>[great, taffy, great, price, wide, assortment,...</td>\n",
       "    </tr>\n",
       "    <tr>\n",
       "      <th>...</th>\n",
       "      <td>...</td>\n",
       "      <td>...</td>\n",
       "    </tr>\n",
       "    <tr>\n",
       "      <th>9995</th>\n",
       "      <td>we switched from the advance similac to the or...</td>\n",
       "      <td>[switched, advance, similac, organic, product,...</td>\n",
       "    </tr>\n",
       "    <tr>\n",
       "      <th>9996</th>\n",
       "      <td>like the bad reviews say  the organic formula ...</td>\n",
       "      <td>[like, bad, reviews, say, organic, formula, co...</td>\n",
       "    </tr>\n",
       "    <tr>\n",
       "      <th>9997</th>\n",
       "      <td>i wanted to solely breastfeed but was unable t...</td>\n",
       "      <td>[wanted, solely, breastfeed, unable, keep, sup...</td>\n",
       "    </tr>\n",
       "    <tr>\n",
       "      <th>9998</th>\n",
       "      <td>i love the fact that i can get this delieved t...</td>\n",
       "      <td>[love, fact, get, delieved, house, delievy, ch...</td>\n",
       "    </tr>\n",
       "    <tr>\n",
       "      <th>9999</th>\n",
       "      <td>we have a 7 week old  he had gas and constipat...</td>\n",
       "      <td>[7, week, old, gas, constipation, problems, fi...</td>\n",
       "    </tr>\n",
       "  </tbody>\n",
       "</table>\n",
       "<p>9138 rows × 2 columns</p>\n",
       "</div>"
      ],
      "text/plain": [
       "                                       reviews_text_new  \\\n",
       "0     i have bought several of the vitality canned d...   \n",
       "1     product arrived labeled as jumbo salted peanut...   \n",
       "2     this is a confection that has been around a fe...   \n",
       "3     if you are looking for the secret ingredient i...   \n",
       "4     great taffy at a great price   there was a wid...   \n",
       "...                                                 ...   \n",
       "9995  we switched from the advance similac to the or...   \n",
       "9996  like the bad reviews say  the organic formula ...   \n",
       "9997  i wanted to solely breastfeed but was unable t...   \n",
       "9998  i love the fact that i can get this delieved t...   \n",
       "9999  we have a 7 week old  he had gas and constipat...   \n",
       "\n",
       "                                   reviews_text_nonstop  \n",
       "0     [bought, several, vitality, canned, dog, food,...  \n",
       "1     [product, arrived, labeled, jumbo, salted, pea...  \n",
       "2     [confection, around, centuries, light, pillowy...  \n",
       "3     [looking, secret, ingredient, robitussin, beli...  \n",
       "4     [great, taffy, great, price, wide, assortment,...  \n",
       "...                                                 ...  \n",
       "9995  [switched, advance, similac, organic, product,...  \n",
       "9996  [like, bad, reviews, say, organic, formula, co...  \n",
       "9997  [wanted, solely, breastfeed, unable, keep, sup...  \n",
       "9998  [love, fact, get, delieved, house, delievy, ch...  \n",
       "9999  [7, week, old, gas, constipation, problems, fi...  \n",
       "\n",
       "[9138 rows x 2 columns]"
      ]
     },
     "execution_count": 20,
     "metadata": {},
     "output_type": "execute_result"
    }
   ],
   "source": [
    "def stopwords_removal(stop_words, sentence):\n",
    "    return [word for word in nltk.word_tokenize(sentence) if word not in stop_words]\n",
    "\n",
    "Customer_review['reviews_text_nonstop'] = Customer_review['reviews_text_new'].apply(lambda row: stopwords_removal(stop_words, row))\n",
    "Customer_review[['reviews_text_new','reviews_text_nonstop']]"
   ]
  },
  {
   "cell_type": "code",
   "execution_count": 21,
   "metadata": {},
   "outputs": [
    {
     "name": "stderr",
     "output_type": "stream",
     "text": [
      "[nltk_data] Downloading package wordnet to\n",
      "[nltk_data]     C:\\Users\\Pratham\\AppData\\Roaming\\nltk_data...\n",
      "[nltk_data]   Package wordnet is already up-to-date!\n"
     ]
    }
   ],
   "source": [
    "from nltk.stem import PorterStemmer, LancasterStemmer # Common stemmers\n",
    "from nltk.stem import WordNetLemmatizer # Common Lematizer\n",
    "nltk.download('wordnet')\n",
    "from nltk.corpus import wordnet\n",
    "\n",
    "porter = PorterStemmer()\n",
    "lancaster = LancasterStemmer()\n",
    "lemmatizer = WordNetLemmatizer()"
   ]
  },
  {
   "cell_type": "code",
   "execution_count": 22,
   "metadata": {},
   "outputs": [
    {
     "name": "stdout",
     "output_type": "stream",
     "text": [
      "Lancaster Stemmer\n",
      "troubl\n",
      "troubl\n",
      "troubl\n",
      "WordNet Lemmatizer\n",
      "trouble\n",
      "trouble\n",
      "trouble\n"
     ]
    }
   ],
   "source": [
    "print(\"Lancaster Stemmer\")\n",
    "print(lancaster.stem(\"trouble\"))\n",
    "print(lancaster.stem(\"troubling\"))\n",
    "print(lancaster.stem(\"troubled\"))\n",
    "\n",
    "# Provide a word to be lemmatized\n",
    "print(\"WordNet Lemmatizer\")\n",
    "print(lemmatizer.lemmatize(\"trouble\", wordnet.NOUN))\n",
    "print(lemmatizer.lemmatize(\"troubling\", wordnet.VERB))\n",
    "print(lemmatizer.lemmatize(\"troubled\", wordnet.VERB))"
   ]
  },
  {
   "cell_type": "code",
   "execution_count": 23,
   "metadata": {},
   "outputs": [
    {
     "data": {
      "text/html": [
       "<div>\n",
       "<style scoped>\n",
       "    .dataframe tbody tr th:only-of-type {\n",
       "        vertical-align: middle;\n",
       "    }\n",
       "\n",
       "    .dataframe tbody tr th {\n",
       "        vertical-align: top;\n",
       "    }\n",
       "\n",
       "    .dataframe thead th {\n",
       "        text-align: right;\n",
       "    }\n",
       "</style>\n",
       "<table border=\"1\" class=\"dataframe\">\n",
       "  <thead>\n",
       "    <tr style=\"text-align: right;\">\n",
       "      <th></th>\n",
       "      <th>reviews_text_nonstop</th>\n",
       "      <th>reviews_text_stemm</th>\n",
       "      <th>reviews_text_lemm</th>\n",
       "    </tr>\n",
       "  </thead>\n",
       "  <tbody>\n",
       "    <tr>\n",
       "      <th>0</th>\n",
       "      <td>[bought, several, vitality, canned, dog, food,...</td>\n",
       "      <td>[bought, sev, vit, can, dog, food, produc, fou...</td>\n",
       "      <td>[bought, several, vitality, canned, dog, food,...</td>\n",
       "    </tr>\n",
       "    <tr>\n",
       "      <th>1</th>\n",
       "      <td>[product, arrived, labeled, jumbo, salted, pea...</td>\n",
       "      <td>[produc, ar, label, jumbo, salt, peanut, peanu...</td>\n",
       "      <td>[product, arrived, labeled, jumbo, salted, pea...</td>\n",
       "    </tr>\n",
       "    <tr>\n",
       "      <th>2</th>\n",
       "      <td>[confection, around, centuries, light, pillowy...</td>\n",
       "      <td>[confect, around, century, light, pillowy, cit...</td>\n",
       "      <td>[confection, around, century, light, pillowy, ...</td>\n",
       "    </tr>\n",
       "    <tr>\n",
       "      <th>3</th>\n",
       "      <td>[looking, secret, ingredient, robitussin, beli...</td>\n",
       "      <td>[look, secret, ingredy, robitussin, believ, fo...</td>\n",
       "      <td>[looking, secret, ingredient, robitussin, beli...</td>\n",
       "    </tr>\n",
       "    <tr>\n",
       "      <th>4</th>\n",
       "      <td>[great, taffy, great, price, wide, assortment,...</td>\n",
       "      <td>[gre, taffy, gre, pric, wid, assort, yummy, ta...</td>\n",
       "      <td>[great, taffy, great, price, wide, assortment,...</td>\n",
       "    </tr>\n",
       "    <tr>\n",
       "      <th>...</th>\n",
       "      <td>...</td>\n",
       "      <td>...</td>\n",
       "      <td>...</td>\n",
       "    </tr>\n",
       "    <tr>\n",
       "      <th>9995</th>\n",
       "      <td>[switched, advance, similac, organic, product,...</td>\n",
       "      <td>[switch, adv, similac, org, produc, think, wou...</td>\n",
       "      <td>[switched, advance, similac, organic, product,...</td>\n",
       "    </tr>\n",
       "    <tr>\n",
       "      <th>9996</th>\n",
       "      <td>[like, bad, reviews, say, organic, formula, co...</td>\n",
       "      <td>[lik, bad, review, say, org, formul, constip, ...</td>\n",
       "      <td>[like, bad, review, say, organic, formula, con...</td>\n",
       "    </tr>\n",
       "    <tr>\n",
       "      <th>9997</th>\n",
       "      <td>[wanted, solely, breastfeed, unable, keep, sup...</td>\n",
       "      <td>[want, sol, breastfee, un, keep, suppl, formul...</td>\n",
       "      <td>[wanted, solely, breastfeed, unable, keep, sup...</td>\n",
       "    </tr>\n",
       "    <tr>\n",
       "      <th>9998</th>\n",
       "      <td>[love, fact, get, delieved, house, delievy, ch...</td>\n",
       "      <td>[lov, fact, get, deliev, hous, delievy, charg,...</td>\n",
       "      <td>[love, fact, get, delieved, house, delievy, ch...</td>\n",
       "    </tr>\n",
       "    <tr>\n",
       "      <th>9999</th>\n",
       "      <td>[7, week, old, gas, constipation, problems, fi...</td>\n",
       "      <td>[7, week, old, gas, constip, problem, first, 5...</td>\n",
       "      <td>[7, week, old, gas, constipation, problem, fir...</td>\n",
       "    </tr>\n",
       "  </tbody>\n",
       "</table>\n",
       "<p>9138 rows × 3 columns</p>\n",
       "</div>"
      ],
      "text/plain": [
       "                                   reviews_text_nonstop  \\\n",
       "0     [bought, several, vitality, canned, dog, food,...   \n",
       "1     [product, arrived, labeled, jumbo, salted, pea...   \n",
       "2     [confection, around, centuries, light, pillowy...   \n",
       "3     [looking, secret, ingredient, robitussin, beli...   \n",
       "4     [great, taffy, great, price, wide, assortment,...   \n",
       "...                                                 ...   \n",
       "9995  [switched, advance, similac, organic, product,...   \n",
       "9996  [like, bad, reviews, say, organic, formula, co...   \n",
       "9997  [wanted, solely, breastfeed, unable, keep, sup...   \n",
       "9998  [love, fact, get, delieved, house, delievy, ch...   \n",
       "9999  [7, week, old, gas, constipation, problems, fi...   \n",
       "\n",
       "                                     reviews_text_stemm  \\\n",
       "0     [bought, sev, vit, can, dog, food, produc, fou...   \n",
       "1     [produc, ar, label, jumbo, salt, peanut, peanu...   \n",
       "2     [confect, around, century, light, pillowy, cit...   \n",
       "3     [look, secret, ingredy, robitussin, believ, fo...   \n",
       "4     [gre, taffy, gre, pric, wid, assort, yummy, ta...   \n",
       "...                                                 ...   \n",
       "9995  [switch, adv, similac, org, produc, think, wou...   \n",
       "9996  [lik, bad, review, say, org, formul, constip, ...   \n",
       "9997  [want, sol, breastfee, un, keep, suppl, formul...   \n",
       "9998  [lov, fact, get, deliev, hous, delievy, charg,...   \n",
       "9999  [7, week, old, gas, constip, problem, first, 5...   \n",
       "\n",
       "                                      reviews_text_lemm  \n",
       "0     [bought, several, vitality, canned, dog, food,...  \n",
       "1     [product, arrived, labeled, jumbo, salted, pea...  \n",
       "2     [confection, around, century, light, pillowy, ...  \n",
       "3     [looking, secret, ingredient, robitussin, beli...  \n",
       "4     [great, taffy, great, price, wide, assortment,...  \n",
       "...                                                 ...  \n",
       "9995  [switched, advance, similac, organic, product,...  \n",
       "9996  [like, bad, review, say, organic, formula, con...  \n",
       "9997  [wanted, solely, breastfeed, unable, keep, sup...  \n",
       "9998  [love, fact, get, delieved, house, delievy, ch...  \n",
       "9999  [7, week, old, gas, constipation, problem, fir...  \n",
       "\n",
       "[9138 rows x 3 columns]"
      ]
     },
     "execution_count": 23,
     "metadata": {},
     "output_type": "execute_result"
    }
   ],
   "source": [
    "def stemm_terms(row):\n",
    "    return [lancaster.stem(term) for term in row]\n",
    "def lemmatize_terms(row):\n",
    "    return [lemmatizer.lemmatize(term) for term in row]\n",
    "    \n",
    "Customer_review['reviews_text_stemm'] = Customer_review['reviews_text_nonstop'].apply(lambda row: stemm_terms(row))\n",
    "Customer_review['reviews_text_lemm'] = Customer_review['reviews_text_nonstop'].apply(lambda row: lemmatize_terms(row))\n",
    "Customer_review[['reviews_text_nonstop','reviews_text_stemm','reviews_text_lemm']]"
   ]
  },
  {
   "cell_type": "code",
   "execution_count": 24,
   "metadata": {},
   "outputs": [
    {
     "data": {
      "text/html": [
       "<div>\n",
       "<style scoped>\n",
       "    .dataframe tbody tr th:only-of-type {\n",
       "        vertical-align: middle;\n",
       "    }\n",
       "\n",
       "    .dataframe tbody tr th {\n",
       "        vertical-align: top;\n",
       "    }\n",
       "\n",
       "    .dataframe thead th {\n",
       "        text-align: right;\n",
       "    }\n",
       "</style>\n",
       "<table border=\"1\" class=\"dataframe\">\n",
       "  <thead>\n",
       "    <tr style=\"text-align: right;\">\n",
       "      <th></th>\n",
       "      <th>Text</th>\n",
       "      <th>Score</th>\n",
       "      <th>Sentiment_rating</th>\n",
       "    </tr>\n",
       "  </thead>\n",
       "  <tbody>\n",
       "    <tr>\n",
       "      <th>0</th>\n",
       "      <td>I have bought several of the Vitality canned d...</td>\n",
       "      <td>5</td>\n",
       "      <td>1</td>\n",
       "    </tr>\n",
       "    <tr>\n",
       "      <th>1</th>\n",
       "      <td>Product arrived labeled as Jumbo Salted Peanut...</td>\n",
       "      <td>1</td>\n",
       "      <td>0</td>\n",
       "    </tr>\n",
       "    <tr>\n",
       "      <th>2</th>\n",
       "      <td>This is a confection that has been around a fe...</td>\n",
       "      <td>4</td>\n",
       "      <td>1</td>\n",
       "    </tr>\n",
       "    <tr>\n",
       "      <th>3</th>\n",
       "      <td>If you are looking for the secret ingredient i...</td>\n",
       "      <td>2</td>\n",
       "      <td>0</td>\n",
       "    </tr>\n",
       "    <tr>\n",
       "      <th>4</th>\n",
       "      <td>Great taffy at a great price.  There was a wid...</td>\n",
       "      <td>5</td>\n",
       "      <td>1</td>\n",
       "    </tr>\n",
       "  </tbody>\n",
       "</table>\n",
       "</div>"
      ],
      "text/plain": [
       "                                                Text  Score  Sentiment_rating\n",
       "0  I have bought several of the Vitality canned d...      5                 1\n",
       "1  Product arrived labeled as Jumbo Salted Peanut...      1                 0\n",
       "2  This is a confection that has been around a fe...      4                 1\n",
       "3  If you are looking for the secret ingredient i...      2                 0\n",
       "4  Great taffy at a great price.  There was a wid...      5                 1"
      ]
     },
     "execution_count": 24,
     "metadata": {},
     "output_type": "execute_result"
    }
   ],
   "source": [
    "Customer_review[['Text','Score','Sentiment_rating']].head(5)"
   ]
  },
  {
   "cell_type": "code",
   "execution_count": 25,
   "metadata": {},
   "outputs": [
    {
     "name": "stdout",
     "output_type": "stream",
     "text": [
      "1-grams:\n",
      " [('A',), ('bird',), ('in',), ('the',), ('hand',), ('worths',), ('two',), ('in',), ('the',), ('bush',)]\n",
      "2-grams:\n",
      " [('A', 'bird'), ('bird', 'in'), ('in', 'the'), ('the', 'hand'), ('hand', 'worths'), ('worths', 'two'), ('two', 'in'), ('in', 'the'), ('the', 'bush')]\n",
      "3-grams:\n",
      " [('A', 'bird', 'in'), ('bird', 'in', 'the'), ('in', 'the', 'hand'), ('the', 'hand', 'worths'), ('hand', 'worths', 'two'), ('worths', 'two', 'in'), ('two', 'in', 'the'), ('in', 'the', 'bush')]\n",
      "4-grams:\n",
      " [('A', 'bird', 'in', 'the'), ('bird', 'in', 'the', 'hand'), ('in', 'the', 'hand', 'worths'), ('the', 'hand', 'worths', 'two'), ('hand', 'worths', 'two', 'in'), ('worths', 'two', 'in', 'the'), ('two', 'in', 'the', 'bush')]\n",
      "5-grams:\n",
      " [('A', 'bird', 'in', 'the', 'hand'), ('bird', 'in', 'the', 'hand', 'worths'), ('in', 'the', 'hand', 'worths', 'two'), ('the', 'hand', 'worths', 'two', 'in'), ('hand', 'worths', 'two', 'in', 'the'), ('worths', 'two', 'in', 'the', 'bush')]\n"
     ]
    }
   ],
   "source": [
    "from nltk import ngrams\n",
    "\n",
    "sentence = 'A bird in the hand worths two in the bush'\n",
    "\n",
    "for n in range(1, 6):\n",
    "    print(str(n) + '-grams:\\n', list(ngrams(sentence.split(), n)))"
   ]
  },
  {
   "cell_type": "code",
   "execution_count": 26,
   "metadata": {},
   "outputs": [
    {
     "data": {
      "text/html": [
       "<div>\n",
       "<style scoped>\n",
       "    .dataframe tbody tr th:only-of-type {\n",
       "        vertical-align: middle;\n",
       "    }\n",
       "\n",
       "    .dataframe tbody tr th {\n",
       "        vertical-align: top;\n",
       "    }\n",
       "\n",
       "    .dataframe thead th {\n",
       "        text-align: right;\n",
       "    }\n",
       "</style>\n",
       "<table border=\"1\" class=\"dataframe\">\n",
       "  <thead>\n",
       "    <tr style=\"text-align: right;\">\n",
       "      <th></th>\n",
       "      <th>00</th>\n",
       "      <th>000</th>\n",
       "      <th>0003</th>\n",
       "      <th>000kwh</th>\n",
       "      <th>002</th>\n",
       "      <th>008</th>\n",
       "      <th>0100</th>\n",
       "      <th>0174</th>\n",
       "      <th>02</th>\n",
       "      <th>03</th>\n",
       "      <th>...</th>\n",
       "      <th>zomg</th>\n",
       "      <th>zon</th>\n",
       "      <th>zoo</th>\n",
       "      <th>zoom</th>\n",
       "      <th>zotz</th>\n",
       "      <th>zucchini</th>\n",
       "      <th>zuke</th>\n",
       "      <th>zukes</th>\n",
       "      <th>zupas</th>\n",
       "      <th>zuppa</th>\n",
       "    </tr>\n",
       "  </thead>\n",
       "  <tbody>\n",
       "    <tr>\n",
       "      <th>0</th>\n",
       "      <td>0</td>\n",
       "      <td>0</td>\n",
       "      <td>0</td>\n",
       "      <td>0</td>\n",
       "      <td>0</td>\n",
       "      <td>0</td>\n",
       "      <td>0</td>\n",
       "      <td>0</td>\n",
       "      <td>0</td>\n",
       "      <td>0</td>\n",
       "      <td>...</td>\n",
       "      <td>0</td>\n",
       "      <td>0</td>\n",
       "      <td>0</td>\n",
       "      <td>0</td>\n",
       "      <td>0</td>\n",
       "      <td>0</td>\n",
       "      <td>0</td>\n",
       "      <td>0</td>\n",
       "      <td>0</td>\n",
       "      <td>0</td>\n",
       "    </tr>\n",
       "    <tr>\n",
       "      <th>1</th>\n",
       "      <td>0</td>\n",
       "      <td>0</td>\n",
       "      <td>0</td>\n",
       "      <td>0</td>\n",
       "      <td>0</td>\n",
       "      <td>0</td>\n",
       "      <td>0</td>\n",
       "      <td>0</td>\n",
       "      <td>0</td>\n",
       "      <td>0</td>\n",
       "      <td>...</td>\n",
       "      <td>0</td>\n",
       "      <td>0</td>\n",
       "      <td>0</td>\n",
       "      <td>0</td>\n",
       "      <td>0</td>\n",
       "      <td>0</td>\n",
       "      <td>0</td>\n",
       "      <td>0</td>\n",
       "      <td>0</td>\n",
       "      <td>0</td>\n",
       "    </tr>\n",
       "    <tr>\n",
       "      <th>2</th>\n",
       "      <td>0</td>\n",
       "      <td>0</td>\n",
       "      <td>0</td>\n",
       "      <td>0</td>\n",
       "      <td>0</td>\n",
       "      <td>0</td>\n",
       "      <td>0</td>\n",
       "      <td>0</td>\n",
       "      <td>0</td>\n",
       "      <td>0</td>\n",
       "      <td>...</td>\n",
       "      <td>0</td>\n",
       "      <td>0</td>\n",
       "      <td>0</td>\n",
       "      <td>0</td>\n",
       "      <td>0</td>\n",
       "      <td>0</td>\n",
       "      <td>0</td>\n",
       "      <td>0</td>\n",
       "      <td>0</td>\n",
       "      <td>0</td>\n",
       "    </tr>\n",
       "    <tr>\n",
       "      <th>3</th>\n",
       "      <td>0</td>\n",
       "      <td>0</td>\n",
       "      <td>0</td>\n",
       "      <td>0</td>\n",
       "      <td>0</td>\n",
       "      <td>0</td>\n",
       "      <td>0</td>\n",
       "      <td>0</td>\n",
       "      <td>0</td>\n",
       "      <td>0</td>\n",
       "      <td>...</td>\n",
       "      <td>0</td>\n",
       "      <td>0</td>\n",
       "      <td>0</td>\n",
       "      <td>0</td>\n",
       "      <td>0</td>\n",
       "      <td>0</td>\n",
       "      <td>0</td>\n",
       "      <td>0</td>\n",
       "      <td>0</td>\n",
       "      <td>0</td>\n",
       "    </tr>\n",
       "    <tr>\n",
       "      <th>4</th>\n",
       "      <td>0</td>\n",
       "      <td>0</td>\n",
       "      <td>0</td>\n",
       "      <td>0</td>\n",
       "      <td>0</td>\n",
       "      <td>0</td>\n",
       "      <td>0</td>\n",
       "      <td>0</td>\n",
       "      <td>0</td>\n",
       "      <td>0</td>\n",
       "      <td>...</td>\n",
       "      <td>0</td>\n",
       "      <td>0</td>\n",
       "      <td>0</td>\n",
       "      <td>0</td>\n",
       "      <td>0</td>\n",
       "      <td>0</td>\n",
       "      <td>0</td>\n",
       "      <td>0</td>\n",
       "      <td>0</td>\n",
       "      <td>0</td>\n",
       "    </tr>\n",
       "  </tbody>\n",
       "</table>\n",
       "<p>5 rows × 18005 columns</p>\n",
       "</div>"
      ],
      "text/plain": [
       "   00  000  0003  000kwh  002  008  0100  0174  02  03  ...  zomg  zon  zoo  \\\n",
       "0   0    0     0       0    0    0     0     0   0   0  ...     0    0    0   \n",
       "1   0    0     0       0    0    0     0     0   0   0  ...     0    0    0   \n",
       "2   0    0     0       0    0    0     0     0   0   0  ...     0    0    0   \n",
       "3   0    0     0       0    0    0     0     0   0   0  ...     0    0    0   \n",
       "4   0    0     0       0    0    0     0     0   0   0  ...     0    0    0   \n",
       "\n",
       "   zoom  zotz  zucchini  zuke  zukes  zupas  zuppa  \n",
       "0     0     0         0     0      0      0      0  \n",
       "1     0     0         0     0      0      0      0  \n",
       "2     0     0         0     0      0      0      0  \n",
       "3     0     0         0     0      0      0      0  \n",
       "4     0     0         0     0      0      0      0  \n",
       "\n",
       "[5 rows x 18005 columns]"
      ]
     },
     "execution_count": 26,
     "metadata": {},
     "output_type": "execute_result"
    }
   ],
   "source": [
    "# The following code creates a word-document matrix.\n",
    "from sklearn.feature_extraction.text import CountVectorizer\n",
    "\n",
    "vec = CountVectorizer()\n",
    "X = vec.fit_transform(Customer_review['reviews_text_new'])\n",
    "df = pd.DataFrame(X.toarray(), columns = vec.get_feature_names())\n",
    "df.head()"
   ]
  },
  {
   "cell_type": "code",
   "execution_count": 27,
   "metadata": {},
   "outputs": [],
   "source": [
    "### Creating a python object of the class CountVectorizer\n",
    "\n",
    "bow_counts = CountVectorizer(tokenizer= word_tokenize, # type of tokenization\n",
    "                             stop_words=noise_words, # List of stopwords\n",
    "                             ngram_range=(1,1)) # number of n-grams\n",
    "\n",
    "bow_data = bow_counts.fit_transform(Customer_review['reviews_text_new'])"
   ]
  },
  {
   "cell_type": "code",
   "execution_count": 28,
   "metadata": {},
   "outputs": [
    {
     "data": {
      "text/plain": [
       "<9138x18039 sparse matrix of type '<class 'numpy.int64'>'\n",
       "\twith 493450 stored elements in Compressed Sparse Row format>"
      ]
     },
     "execution_count": 28,
     "metadata": {},
     "output_type": "execute_result"
    }
   ],
   "source": [
    "bow_data"
   ]
  },
  {
   "cell_type": "code",
   "execution_count": 29,
   "metadata": {},
   "outputs": [],
   "source": [
    "X_train_bow, X_test_bow, y_train_bow, y_test_bow = train_test_split(bow_data, # Features\n",
    "                                                                    Customer_review['Sentiment_rating'], # Target variable\n",
    "                                                                    test_size = 0.2, # 20% test size\n",
    "                                                                    random_state = 0) # random state for replication purposes"
   ]
  },
  {
   "cell_type": "code",
   "execution_count": 30,
   "metadata": {},
   "outputs": [
    {
     "data": {
      "text/plain": [
       "1    0.847921\n",
       "0    0.152079\n",
       "Name: Sentiment_rating, dtype: float64"
      ]
     },
     "execution_count": 30,
     "metadata": {},
     "output_type": "execute_result"
    }
   ],
   "source": [
    "y_test_bow.value_counts()/y_test_bow.shape[0]"
   ]
  },
  {
   "cell_type": "code",
   "execution_count": 31,
   "metadata": {},
   "outputs": [
    {
     "name": "stdout",
     "output_type": "stream",
     "text": [
      "F1 score:  0.9526854219948849\n"
     ]
    }
   ],
   "source": [
    "### Training the model \n",
    "lr_model_all = LogisticRegression() # Logistic regression\n",
    "lr_model_all.fit(X_train_bow, y_train_bow) # Fitting a logistic regression model\n",
    "\n",
    "## Predicting the output\n",
    "test_pred_lr_all = lr_model_all.predict(X_test_bow) # Class prediction\n",
    "\n",
    "## Calculate key performance metrics\n",
    "print(\"F1 score: \", f1_score(y_test_bow, test_pred_lr_all))"
   ]
  },
  {
   "cell_type": "code",
   "execution_count": null,
   "metadata": {},
   "outputs": [],
   "source": []
  },
  {
   "cell_type": "code",
   "execution_count": 32,
   "metadata": {},
   "outputs": [],
   "source": [
    "### Changes with respect to the previous code\n",
    "### 1. Increasing the n-grams from just having 1-gram to (1-gram, 2-gram, 3-gram, and 4-gram)\n",
    "### 2. Including the stopwords in the bag of words features\n",
    "\n",
    "bow_counts = CountVectorizer(tokenizer= word_tokenize,\n",
    "                             ngram_range=(1,4))\n",
    "\n",
    "bow_data = bow_counts.fit_transform(Customer_review.reviews_text_new)"
   ]
  },
  {
   "cell_type": "code",
   "execution_count": 33,
   "metadata": {},
   "outputs": [
    {
     "data": {
      "text/plain": [
       "<9138x1261413 sparse matrix of type '<class 'numpy.int64'>'\n",
       "\twith 2530528 stored elements in Compressed Sparse Row format>"
      ]
     },
     "execution_count": 33,
     "metadata": {},
     "output_type": "execute_result"
    }
   ],
   "source": [
    "bow_data"
   ]
  },
  {
   "cell_type": "code",
   "execution_count": 34,
   "metadata": {},
   "outputs": [],
   "source": [
    "X_train_bow, X_test_bow, y_train_bow, y_test_bow = train_test_split(bow_data,\n",
    "                                                                    Customer_review['Sentiment_rating'],\n",
    "                                                                    test_size = 0.2,\n",
    "                                                                    random_state = 0)"
   ]
  },
  {
   "cell_type": "code",
   "execution_count": 35,
   "metadata": {},
   "outputs": [
    {
     "name": "stdout",
     "output_type": "stream",
     "text": [
      "F1 score:  0.9541745134965474\n"
     ]
    }
   ],
   "source": [
    "# Defining and training the model\n",
    "lr_model_all_new = LogisticRegression(max_iter = 200)\n",
    "lr_model_all_new.fit(X_train_bow, y_train_bow)\n",
    "\n",
    "# Predicting the results\n",
    "test_pred_lr_all = lr_model_all_new.predict(X_test_bow)\n",
    "\n",
    "print(\"F1 score: \", f1_score(y_test_bow,test_pred_lr_all))"
   ]
  },
  {
   "cell_type": "code",
   "execution_count": 36,
   "metadata": {},
   "outputs": [
    {
     "data": {
      "text/html": [
       "<div>\n",
       "<style scoped>\n",
       "    .dataframe tbody tr th:only-of-type {\n",
       "        vertical-align: middle;\n",
       "    }\n",
       "\n",
       "    .dataframe tbody tr th {\n",
       "        vertical-align: top;\n",
       "    }\n",
       "\n",
       "    .dataframe thead th {\n",
       "        text-align: right;\n",
       "    }\n",
       "</style>\n",
       "<table border=\"1\" class=\"dataframe\">\n",
       "  <thead>\n",
       "    <tr style=\"text-align: right;\">\n",
       "      <th></th>\n",
       "      <th>words</th>\n",
       "      <th>weights</th>\n",
       "    </tr>\n",
       "  </thead>\n",
       "  <tbody>\n",
       "    <tr>\n",
       "      <th>448809</th>\n",
       "      <td>great</td>\n",
       "      <td>1.327836</td>\n",
       "    </tr>\n",
       "    <tr>\n",
       "      <th>305794</th>\n",
       "      <td>delicious</td>\n",
       "      <td>0.952233</td>\n",
       "    </tr>\n",
       "    <tr>\n",
       "      <th>810997</th>\n",
       "      <td>perfect</td>\n",
       "      <td>0.838267</td>\n",
       "    </tr>\n",
       "    <tr>\n",
       "      <th>438773</th>\n",
       "      <td>good</td>\n",
       "      <td>0.831882</td>\n",
       "    </tr>\n",
       "    <tr>\n",
       "      <th>1023733</th>\n",
       "      <td>the best</td>\n",
       "      <td>0.820454</td>\n",
       "    </tr>\n",
       "    <tr>\n",
       "      <th>358331</th>\n",
       "      <td>excellent</td>\n",
       "      <td>0.820397</td>\n",
       "    </tr>\n",
       "    <tr>\n",
       "      <th>171393</th>\n",
       "      <td>best</td>\n",
       "      <td>0.792763</td>\n",
       "    </tr>\n",
       "    <tr>\n",
       "      <th>639088</th>\n",
       "      <td>love</td>\n",
       "      <td>0.783728</td>\n",
       "    </tr>\n",
       "    <tr>\n",
       "      <th>709971</th>\n",
       "      <td>nice</td>\n",
       "      <td>0.769275</td>\n",
       "    </tr>\n",
       "    <tr>\n",
       "      <th>930961</th>\n",
       "      <td>smooth</td>\n",
       "      <td>0.637414</td>\n",
       "    </tr>\n",
       "    <tr>\n",
       "      <th>1237853</th>\n",
       "      <td>wonderful</td>\n",
       "      <td>0.635900</td>\n",
       "    </tr>\n",
       "    <tr>\n",
       "      <th>642547</th>\n",
       "      <td>loves</td>\n",
       "      <td>0.630555</td>\n",
       "    </tr>\n",
       "    <tr>\n",
       "      <th>724010</th>\n",
       "      <td>not too</td>\n",
       "      <td>0.602628</td>\n",
       "    </tr>\n",
       "    <tr>\n",
       "      <th>370041</th>\n",
       "      <td>favorite</td>\n",
       "      <td>0.595243</td>\n",
       "    </tr>\n",
       "    <tr>\n",
       "      <th>377546</th>\n",
       "      <td>find</td>\n",
       "      <td>0.584453</td>\n",
       "    </tr>\n",
       "  </tbody>\n",
       "</table>\n",
       "</div>"
      ],
      "text/plain": [
       "             words   weights\n",
       "448809       great  1.327836\n",
       "305794   delicious  0.952233\n",
       "810997     perfect  0.838267\n",
       "438773        good  0.831882\n",
       "1023733   the best  0.820454\n",
       "358331   excellent  0.820397\n",
       "171393        best  0.792763\n",
       "639088        love  0.783728\n",
       "709971        nice  0.769275\n",
       "930961      smooth  0.637414\n",
       "1237853  wonderful  0.635900\n",
       "642547       loves  0.630555\n",
       "724010     not too  0.602628\n",
       "370041    favorite  0.595243\n",
       "377546        find  0.584453"
      ]
     },
     "execution_count": 36,
     "metadata": {},
     "output_type": "execute_result"
    }
   ],
   "source": [
    "lr_weights = pd.DataFrame(list(zip(bow_counts.get_feature_names(), # ge tall the n-gram feature names\n",
    "                                   lr_model_all_new.coef_[0])), # get the logistic regression coefficients\n",
    "                          columns= ['words','weights']) # defining the colunm names\n",
    "\n",
    "lr_weights.sort_values(['weights'], ascending = False)[:15] # top-15 more important features for positive reviews"
   ]
  },
  {
   "cell_type": "code",
   "execution_count": 37,
   "metadata": {},
   "outputs": [
    {
     "data": {
      "text/html": [
       "<div>\n",
       "<style scoped>\n",
       "    .dataframe tbody tr th:only-of-type {\n",
       "        vertical-align: middle;\n",
       "    }\n",
       "\n",
       "    .dataframe tbody tr th {\n",
       "        vertical-align: top;\n",
       "    }\n",
       "\n",
       "    .dataframe thead th {\n",
       "        text-align: right;\n",
       "    }\n",
       "</style>\n",
       "<table border=\"1\" class=\"dataframe\">\n",
       "  <thead>\n",
       "    <tr style=\"text-align: right;\">\n",
       "      <th></th>\n",
       "      <th>words</th>\n",
       "      <th>weights</th>\n",
       "    </tr>\n",
       "  </thead>\n",
       "  <tbody>\n",
       "    <tr>\n",
       "      <th>1241695</th>\n",
       "      <td>worst</td>\n",
       "      <td>-0.542727</td>\n",
       "    </tr>\n",
       "    <tr>\n",
       "      <th>1175374</th>\n",
       "      <td>very disappointed</td>\n",
       "      <td>-0.558063</td>\n",
       "    </tr>\n",
       "    <tr>\n",
       "      <th>1206112</th>\n",
       "      <td>were</td>\n",
       "      <td>-0.564806</td>\n",
       "    </tr>\n",
       "    <tr>\n",
       "      <th>874505</th>\n",
       "      <td>return</td>\n",
       "      <td>-0.568150</td>\n",
       "    </tr>\n",
       "    <tr>\n",
       "      <th>143979</th>\n",
       "      <td>away</td>\n",
       "      <td>-0.573365</td>\n",
       "    </tr>\n",
       "    <tr>\n",
       "      <th>959625</th>\n",
       "      <td>stick</td>\n",
       "      <td>-0.585488</td>\n",
       "    </tr>\n",
       "    <tr>\n",
       "      <th>144964</th>\n",
       "      <td>awful</td>\n",
       "      <td>-0.593921</td>\n",
       "    </tr>\n",
       "    <tr>\n",
       "      <th>1193585</th>\n",
       "      <td>waste</td>\n",
       "      <td>-0.612407</td>\n",
       "    </tr>\n",
       "    <tr>\n",
       "      <th>317336</th>\n",
       "      <td>disappointing</td>\n",
       "      <td>-0.613687</td>\n",
       "    </tr>\n",
       "    <tr>\n",
       "      <th>982546</th>\n",
       "      <td>t</td>\n",
       "      <td>-0.674763</td>\n",
       "    </tr>\n",
       "    <tr>\n",
       "      <th>148156</th>\n",
       "      <td>bad</td>\n",
       "      <td>-0.693490</td>\n",
       "    </tr>\n",
       "    <tr>\n",
       "      <th>1201325</th>\n",
       "      <td>weak</td>\n",
       "      <td>-0.731742</td>\n",
       "    </tr>\n",
       "    <tr>\n",
       "      <th>352214</th>\n",
       "      <td>even</td>\n",
       "      <td>-0.793828</td>\n",
       "    </tr>\n",
       "    <tr>\n",
       "      <th>716808</th>\n",
       "      <td>not</td>\n",
       "      <td>-1.014974</td>\n",
       "    </tr>\n",
       "    <tr>\n",
       "      <th>316985</th>\n",
       "      <td>disappointed</td>\n",
       "      <td>-1.166394</td>\n",
       "    </tr>\n",
       "  </tbody>\n",
       "</table>\n",
       "</div>"
      ],
      "text/plain": [
       "                     words   weights\n",
       "1241695              worst -0.542727\n",
       "1175374  very disappointed -0.558063\n",
       "1206112               were -0.564806\n",
       "874505              return -0.568150\n",
       "143979                away -0.573365\n",
       "959625               stick -0.585488\n",
       "144964               awful -0.593921\n",
       "1193585              waste -0.612407\n",
       "317336       disappointing -0.613687\n",
       "982546                   t -0.674763\n",
       "148156                 bad -0.693490\n",
       "1201325               weak -0.731742\n",
       "352214                even -0.793828\n",
       "716808                 not -1.014974\n",
       "316985        disappointed -1.166394"
      ]
     },
     "execution_count": 37,
     "metadata": {},
     "output_type": "execute_result"
    }
   ],
   "source": [
    "lr_weights.sort_values(['weights'], ascending = False)[-15:] # top-15 more important features for negative reviews"
   ]
  },
  {
   "cell_type": "code",
   "execution_count": 38,
   "metadata": {},
   "outputs": [],
   "source": [
    "from sklearn.feature_extraction.text import TfidfVectorizer\n",
    "\n",
    "### Creating a python object of the class CountVectorizer\n",
    "tfidf_counts = TfidfVectorizer(tokenizer= word_tokenize, # type of tokenization\n",
    "                               stop_words=noise_words, # List of stopwords\n",
    "                               ngram_range=(1,1)) # number of n-grams\n",
    "\n",
    "tfidf_data = tfidf_counts.fit_transform(Customer_review['reviews_text_new'])"
   ]
  },
  {
   "cell_type": "code",
   "execution_count": 39,
   "metadata": {},
   "outputs": [
    {
     "data": {
      "text/plain": [
       "<9138x18039 sparse matrix of type '<class 'numpy.float64'>'\n",
       "\twith 493450 stored elements in Compressed Sparse Row format>"
      ]
     },
     "execution_count": 39,
     "metadata": {},
     "output_type": "execute_result"
    }
   ],
   "source": [
    "tfidf_data"
   ]
  },
  {
   "cell_type": "code",
   "execution_count": 40,
   "metadata": {},
   "outputs": [],
   "source": [
    "X_train_tfidf, X_test_tfidf, y_train_tfidf, y_test_tfidf = train_test_split(tfidf_data,\n",
    "                                                                            Customer_review['Sentiment_rating'],\n",
    "                                                                            test_size = 0.2,\n",
    "                                                                            random_state = 0)"
   ]
  },
  {
   "cell_type": "code",
   "execution_count": 41,
   "metadata": {},
   "outputs": [
    {
     "name": "stdout",
     "output_type": "stream",
     "text": [
      "F1 score:  0.9396341463414635\n"
     ]
    }
   ],
   "source": [
    "### Setting up the model class\n",
    "lr_model_tf_idf = LogisticRegression()\n",
    "\n",
    "## Training the model \n",
    "lr_model_tf_idf.fit(X_train_tfidf,y_train_tfidf)\n",
    "\n",
    "## Prediciting the results\n",
    "test_pred_lr_all = lr_model_tf_idf.predict(X_test_tfidf)\n",
    "\n",
    "## Evaluating the model\n",
    "print(\"F1 score: \",f1_score(y_test_bow, test_pred_lr_all))"
   ]
  }
 ],
 "metadata": {
  "kernelspec": {
   "display_name": "Python 3",
   "language": "python",
   "name": "python3"
  },
  "language_info": {
   "codemirror_mode": {
    "name": "ipython",
    "version": 3
   },
   "file_extension": ".py",
   "mimetype": "text/x-python",
   "name": "python",
   "nbconvert_exporter": "python",
   "pygments_lexer": "ipython3",
   "version": "3.8.5"
  }
 },
 "nbformat": 4,
 "nbformat_minor": 4
}
